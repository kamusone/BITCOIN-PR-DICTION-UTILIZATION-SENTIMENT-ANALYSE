{
  "nbformat": 4,
  "nbformat_minor": 0,
  "metadata": {
    "colab": {
      "name": "Bitcoin_Spark_Work.ipynb",
      "version": "0.3.2",
      "provenance": [],
      "collapsed_sections": [],
      "include_colab_link": true
    },
    "language_info": {
      "codemirror_mode": {
        "name": "ipython",
        "version": 3
      },
      "file_extension": ".py",
      "mimetype": "text/x-python",
      "name": "python",
      "nbconvert_exporter": "python",
      "pygments_lexer": "ipython3",
      "version": "3.6.8"
    },
    "kernelspec": {
      "name": "python3",
      "display_name": "Python 3"
    },
    "accelerator": "GPU"
  },
  "cells": [
    {
      "cell_type": "markdown",
      "metadata": {
        "id": "view-in-github",
        "colab_type": "text"
      },
      "source": [
        "<a href=\"https://colab.research.google.com/github/kamusone/BITCOIN-PR-DICTION-UTILIZATION-SENTIMENT-ANALYSE/blob/master/Bitcoin_Spark_Work.ipynb\" target=\"_parent\"><img src=\"https://colab.research.google.com/assets/colab-badge.svg\" alt=\"Open In Colab\"/></a>"
      ]
    },
    {
      "cell_type": "code",
      "metadata": {
        "colab_type": "code",
        "id": "DVeBX1cP5fO3",
        "outputId": "7c1175d3-96ec-41ba-8d63-087ef418731f",
        "colab": {
          "base_uri": "https://localhost:8080/",
          "height": 122
        }
      },
      "source": [
        "from google.colab import drive\n",
        "drive.mount('/content/drive/')"
      ],
      "execution_count": 1,
      "outputs": [
        {
          "output_type": "stream",
          "text": [
            "Go to this URL in a browser: https://accounts.google.com/o/oauth2/auth?client_id=947318989803-6bn6qk8qdgf4n4g3pfee6491hc0brc4i.apps.googleusercontent.com&redirect_uri=urn%3Aietf%3Awg%3Aoauth%3A2.0%3Aoob&scope=email%20https%3A%2F%2Fwww.googleapis.com%2Fauth%2Fdocs.test%20https%3A%2F%2Fwww.googleapis.com%2Fauth%2Fdrive%20https%3A%2F%2Fwww.googleapis.com%2Fauth%2Fdrive.photos.readonly%20https%3A%2F%2Fwww.googleapis.com%2Fauth%2Fpeopleapi.readonly&response_type=code\n",
            "\n",
            "Enter your authorization code:\n",
            "··········\n",
            "Mounted at /content/drive/\n"
          ],
          "name": "stdout"
        }
      ]
    },
    {
      "cell_type": "code",
      "metadata": {
        "colab_type": "code",
        "id": "llqvkeqNL9Y0",
        "outputId": "42545841-36f1-4817-bd26-62a15d593b5e",
        "colab": {
          "base_uri": "https://localhost:8080/",
          "height": 34
        }
      },
      "source": [
        "# UNCOMMENT THIS IF YOU'RE USING GOOGLE COLAB!\n",
        "\n",
        "!apt-get install openjdk-8-jdk-headless -qq > /dev/null\n",
        "!wget -q http://apache.osuosl.org/spark/spark-2.3.3/spark-2.3.3-bin-hadoop2.7.tgz\n",
        "!tar xf spark-2.3.3-bin-hadoop2.7.tgz\n",
        "!pip install numpy\n",
        "!pip install -q pandas==0.24.1\n",
        "!pip install -q seaborn==0.9\n",
        "!pip install -q pyspark==2.3.3\n",
        "!pip install -q findspark\n",
        "!pip install -q handyspark\n",
        "\n",
        "# AFTER RUNNING THIS CELL, YOU MUST RESTART THE RUNTIME TO USE UPDATED VERSIONS OF PACKAGES!"
      ],
      "execution_count": 2,
      "outputs": [
        {
          "output_type": "stream",
          "text": [
            "Requirement already satisfied: numpy in /usr/local/lib/python3.6/dist-packages (1.16.4)\n"
          ],
          "name": "stdout"
        }
      ]
    },
    {
      "cell_type": "code",
      "metadata": {
        "colab_type": "code",
        "id": "snu6FLnNMhPb",
        "colab": {}
      },
      "source": [
        "import os\n",
        "os.environ[\"JAVA_HOME\"] = \"/usr/lib/jvm/java-8-openjdk-amd64\"\n",
        "os.environ[\"SPARK_HOME\"] = \"/content/spark-2.3.3-bin-hadoop2.7\""
      ],
      "execution_count": 0,
      "outputs": []
    },
    {
      "cell_type": "code",
      "metadata": {
        "colab_type": "code",
        "id": "srGI1pzTNEw1",
        "colab": {}
      },
      "source": [
        "import os\n",
        "import numpy as np\n",
        "import findspark\n",
        "import pandas as pd\n",
        "import warnings\n",
        "warnings.filterwarnings('ignore')\n",
        "from pyspark.sql import SparkSession\n",
        "from pyspark.sql.types import *\n",
        "from pyspark.sql import SQLContext\n",
        "from pyspark.sql.functions import col,udf,monotonically_increasing_id,unix_timestamp,round,avg\n",
        "# from handyspark import *\n",
        "\n",
        "findspark.init()\n",
        "os.environ['PYSPARK_SUBMIT_ARGS'] = '--master local[*] pyspark-shell'\n",
        "\n",
        "\n",
        "spark = SparkSession.builder.getOrCreate()\n",
        "\n",
        "sql = SQLContext(spark)"
      ],
      "execution_count": 0,
      "outputs": []
    },
    {
      "cell_type": "code",
      "metadata": {
        "colab_type": "code",
        "id": "rKZ1rYrefZA5",
        "outputId": "21f0a0d7-3bec-4022-d9ac-25a4f78063da",
        "colab": {
          "base_uri": "https://localhost:8080/",
          "height": 102
        }
      },
      "source": [
        "!pip install tweet-preprocessor\n",
        "!pip install vaderSentiment\n",
        "!pip install textblob\n",
        "\n",
        "from vaderSentiment.vaderSentiment import SentimentIntensityAnalyzer\n",
        "from textblob import TextBlob\n",
        "\n",
        "def sentiment_analysis(text):\n",
        "    \"\"\"Determine if sentiment is positive, negative, or neutral\n",
        "    algorithm to figure out if sentiment is positive, negative or neutral\n",
        "    uses sentiment polarity from TextBlob, VADER Sentiment and\n",
        "    sentiment from text-processing URL\n",
        "    could be made better :)\n",
        "    \"\"\"\n",
        "    text =str(text)\n",
        "    # pass text into TextBlob\n",
        "    text_tb = TextBlob(text)\n",
        "\n",
        "    # pass text into VADER Sentiment\n",
        "    analyzer = SentimentIntensityAnalyzer()\n",
        "    text_vs = analyzer.polarity_scores(text)\n",
        "\n",
        "\n",
        "    if text_tb.sentiment.polarity <= 0 and text_vs['compound'] <= -0.5:\n",
        "        sentiment = \"negative\"  # very negative\n",
        "    elif text_tb.sentiment.polarity <= 0 and text_vs['compound'] <= -0.1:\n",
        "        sentiment = \"negative\"  # somewhat negative\n",
        "    elif text_tb.sentiment.polarity == 0 and text_vs['compound'] > -0.1 and text_vs['compound'] < 0.1:\n",
        "        sentiment = \"neutral\"\n",
        "    elif text_tb.sentiment.polarity >= 0 and text_vs['compound'] >= 0.1:\n",
        "        sentiment = \"positive\"  # somewhat positive\n",
        "    elif text_tb.sentiment.polarity > 0 and text_vs['compound'] >= 0.1:\n",
        "        sentiment = \"positive\"  # very positive\n",
        "    else:\n",
        "        sentiment = \"neutral\"\n",
        "\n",
        "    # calculate average polarity from TextBlob and VADER\n",
        "    polarity = (text_tb.sentiment.polarity + text_vs['compound']) / 2\n",
        "\n",
        "    return sentiment\n",
        "  \n",
        "def polarity_analysis(text):\n",
        "    \"\"\"Determine if sentiment is positive, negative, or neutral\n",
        "    algorithm to figure out if sentiment is positive, negative or neutral\n",
        "    uses sentiment polarity from TextBlob, VADER Sentiment and\n",
        "    sentiment from text-processing URL\n",
        "    could be made better :)\n",
        "    \"\"\"\n",
        "    text =str(text)\n",
        "    # pass text into TextBlob\n",
        "    text_tb = TextBlob(text)\n",
        "\n",
        "    # pass text into VADER Sentiment\n",
        "    analyzer = SentimentIntensityAnalyzer()\n",
        "    text_vs = analyzer.polarity_scores(text)\n",
        "\n",
        "\n",
        "    if text_tb.sentiment.polarity <= 0 and text_vs['compound'] <= -0.5:\n",
        "        sentiment = \"negative\"  # very negative\n",
        "    elif text_tb.sentiment.polarity <= 0 and text_vs['compound'] <= -0.1:\n",
        "        sentiment = \"negative\"  # somewhat negative\n",
        "    elif text_tb.sentiment.polarity == 0 and text_vs['compound'] > -0.1 and text_vs['compound'] < 0.1:\n",
        "        sentiment = \"neutral\"\n",
        "    elif text_tb.sentiment.polarity >= 0 and text_vs['compound'] >= 0.1:\n",
        "        sentiment = \"positive\"  # somewhat positive\n",
        "    elif text_tb.sentiment.polarity > 0 and text_vs['compound'] >= 0.1:\n",
        "        sentiment = \"positive\"  # very positive\n",
        "    else:\n",
        "        sentiment = \"neutral\"\n",
        "\n",
        "    # calculate average polarity from TextBlob and VADER\n",
        "    polarity = (text_tb.sentiment.polarity + text_vs['compound']) / 2\n",
        "\n",
        "    return polarity\n",
        "  \n",
        "def sentiment_scores(text):\n",
        "  text=str(text)\n",
        "  analyzer = SentimentIntensityAnalyzer()\n",
        "  text_vs = analyzer.polarity_scores(text)\n",
        "  return ([text_vs['neg'], text_vs['neu'], text_vs['pos'], text_vs['compound']])"
      ],
      "execution_count": 5,
      "outputs": [
        {
          "output_type": "stream",
          "text": [
            "Requirement already satisfied: tweet-preprocessor in /usr/local/lib/python3.6/dist-packages (0.5.0)\n",
            "Requirement already satisfied: vaderSentiment in /usr/local/lib/python3.6/dist-packages (3.2.1)\n",
            "Requirement already satisfied: textblob in /usr/local/lib/python3.6/dist-packages (0.15.3)\n",
            "Requirement already satisfied: nltk>=3.1 in /usr/local/lib/python3.6/dist-packages (from textblob) (3.2.5)\n",
            "Requirement already satisfied: six in /usr/local/lib/python3.6/dist-packages (from nltk>=3.1->textblob) (1.12.0)\n"
          ],
          "name": "stdout"
        }
      ]
    },
    {
      "cell_type": "code",
      "metadata": {
        "colab_type": "code",
        "id": "IvegHR_cHJiB",
        "outputId": "7c5a7f31-06e4-44f7-b90c-b54707db99fc",
        "colab": {
          "base_uri": "https://localhost:8080/",
          "height": 204
        }
      },
      "source": [
        "df = pd.read_csv('/content/drive/My Drive/sentiment_analysis/tweets.csv', sep = ',')\n",
        "# df.text = df.text.astype('str')\n",
        "df = df.drop_duplicates(subset='text', keep='first')\n",
        "df=df.drop(columns=['user', 'fullname', 'tweet-id', 'url', 'likes', 'replies',\n",
        "       'retweets', 'html'])\n",
        "df = df.dropna()\n",
        "df.head()"
      ],
      "execution_count": 6,
      "outputs": [
        {
          "output_type": "execute_result",
          "data": {
            "text/html": [
              "<div>\n",
              "<style scoped>\n",
              "    .dataframe tbody tr th:only-of-type {\n",
              "        vertical-align: middle;\n",
              "    }\n",
              "\n",
              "    .dataframe tbody tr th {\n",
              "        vertical-align: top;\n",
              "    }\n",
              "\n",
              "    .dataframe thead th {\n",
              "        text-align: right;\n",
              "    }\n",
              "</style>\n",
              "<table border=\"1\" class=\"dataframe\">\n",
              "  <thead>\n",
              "    <tr style=\"text-align: right;\">\n",
              "      <th></th>\n",
              "      <th>timestamp</th>\n",
              "      <th>text</th>\n",
              "    </tr>\n",
              "  </thead>\n",
              "  <tbody>\n",
              "    <tr>\n",
              "      <th>0</th>\n",
              "      <td>2016-06-25 23:59:52</td>\n",
              "      <td>Bitcoin: Pissed-off customers sue GAW Miners i...</td>\n",
              "    </tr>\n",
              "    <tr>\n",
              "      <th>1</th>\n",
              "      <td>2016-06-25 23:59:36</td>\n",
              "      <td>I'm not gone lie I be staring at pplwhat btc's...</td>\n",
              "    </tr>\n",
              "    <tr>\n",
              "      <th>2</th>\n",
              "      <td>2016-06-25 23:59:17</td>\n",
              "      <td>Did you miss Beyond Bitcoin Hangout? I CANNOT ...</td>\n",
              "    </tr>\n",
              "    <tr>\n",
              "      <th>3</th>\n",
              "      <td>2016-06-25 23:59:15</td>\n",
              "      <td>What are the merits and risks of investing in ...</td>\n",
              "    </tr>\n",
              "    <tr>\n",
              "      <th>4</th>\n",
              "      <td>2016-06-25 23:59:08</td>\n",
              "      <td>Hash Ocean #Bitcoin Cloud Mining №1 in the wor...</td>\n",
              "    </tr>\n",
              "  </tbody>\n",
              "</table>\n",
              "</div>"
            ],
            "text/plain": [
              "             timestamp                                               text\n",
              "0  2016-06-25 23:59:52  Bitcoin: Pissed-off customers sue GAW Miners i...\n",
              "1  2016-06-25 23:59:36  I'm not gone lie I be staring at pplwhat btc's...\n",
              "2  2016-06-25 23:59:17  Did you miss Beyond Bitcoin Hangout? I CANNOT ...\n",
              "3  2016-06-25 23:59:15  What are the merits and risks of investing in ...\n",
              "4  2016-06-25 23:59:08  Hash Ocean #Bitcoin Cloud Mining №1 in the wor..."
            ]
          },
          "metadata": {
            "tags": []
          },
          "execution_count": 6
        }
      ]
    },
    {
      "cell_type": "code",
      "metadata": {
        "id": "TUH0v98tekBp",
        "colab_type": "code",
        "colab": {}
      },
      "source": [
        "df.to_csv('/content/drive/My Drive/sentiment_analysis/tweets_drop.csv', sep = ',', index = False)"
      ],
      "execution_count": 0,
      "outputs": []
    },
    {
      "cell_type": "code",
      "metadata": {
        "id": "mDzZJg1nfIv0",
        "colab_type": "code",
        "colab": {
          "base_uri": "https://localhost:8080/",
          "height": 204
        },
        "outputId": "e689f217-bd24-4a0c-a9c2-f56de7f12230"
      },
      "source": [
        "df1 = pd.read_csv('/content/drive/My Drive/sentiment_analysis/tweets_drop.csv', sep = ',',  lineterminator='\\n')\n",
        "df1.head()"
      ],
      "execution_count": 10,
      "outputs": [
        {
          "output_type": "execute_result",
          "data": {
            "text/html": [
              "<div>\n",
              "<style scoped>\n",
              "    .dataframe tbody tr th:only-of-type {\n",
              "        vertical-align: middle;\n",
              "    }\n",
              "\n",
              "    .dataframe tbody tr th {\n",
              "        vertical-align: top;\n",
              "    }\n",
              "\n",
              "    .dataframe thead th {\n",
              "        text-align: right;\n",
              "    }\n",
              "</style>\n",
              "<table border=\"1\" class=\"dataframe\">\n",
              "  <thead>\n",
              "    <tr style=\"text-align: right;\">\n",
              "      <th></th>\n",
              "      <th>timestamp</th>\n",
              "      <th>text</th>\n",
              "    </tr>\n",
              "  </thead>\n",
              "  <tbody>\n",
              "    <tr>\n",
              "      <th>0</th>\n",
              "      <td>2016-06-25 23:59:52</td>\n",
              "      <td>Bitcoin: Pissed-off customers sue GAW Miners i...</td>\n",
              "    </tr>\n",
              "    <tr>\n",
              "      <th>1</th>\n",
              "      <td>2016-06-25 23:59:36</td>\n",
              "      <td>I'm not gone lie I be staring at pplwhat btc's...</td>\n",
              "    </tr>\n",
              "    <tr>\n",
              "      <th>2</th>\n",
              "      <td>2016-06-25 23:59:17</td>\n",
              "      <td>Did you miss Beyond Bitcoin Hangout? I CANNOT ...</td>\n",
              "    </tr>\n",
              "    <tr>\n",
              "      <th>3</th>\n",
              "      <td>2016-06-25 23:59:15</td>\n",
              "      <td>What are the merits and risks of investing in ...</td>\n",
              "    </tr>\n",
              "    <tr>\n",
              "      <th>4</th>\n",
              "      <td>2016-06-25 23:59:08</td>\n",
              "      <td>Hash Ocean #Bitcoin Cloud Mining №1 in the wor...</td>\n",
              "    </tr>\n",
              "  </tbody>\n",
              "</table>\n",
              "</div>"
            ],
            "text/plain": [
              "             timestamp                                               text\n",
              "0  2016-06-25 23:59:52  Bitcoin: Pissed-off customers sue GAW Miners i...\n",
              "1  2016-06-25 23:59:36  I'm not gone lie I be staring at pplwhat btc's...\n",
              "2  2016-06-25 23:59:17  Did you miss Beyond Bitcoin Hangout? I CANNOT ...\n",
              "3  2016-06-25 23:59:15  What are the merits and risks of investing in ...\n",
              "4  2016-06-25 23:59:08  Hash Ocean #Bitcoin Cloud Mining №1 in the wor..."
            ]
          },
          "metadata": {
            "tags": []
          },
          "execution_count": 10
        }
      ]
    },
    {
      "cell_type": "code",
      "metadata": {
        "colab_type": "code",
        "id": "XaSFRekzZF3q",
        "colab": {}
      },
      "source": [
        "tweets=sql.createDataFrame(df1)"
      ],
      "execution_count": 0,
      "outputs": []
    },
    {
      "cell_type": "code",
      "metadata": {
        "id": "swovVwN3jnR2",
        "colab_type": "code",
        "colab": {
          "base_uri": "https://localhost:8080/",
          "height": 187
        },
        "outputId": "5672c0c5-1329-4fbb-f498-bde768322f0f"
      },
      "source": [
        "!pip install langdetect\n",
        "from langdetect import detect\n",
        "\n",
        "def langdetection(cleaned):\n",
        "    try :\n",
        "        if detect(cleaned) == 'en':\n",
        "            return cleaned\n",
        "        else :\n",
        "            return np.nan\n",
        "    except:\n",
        "        return np.nan"
      ],
      "execution_count": 12,
      "outputs": [
        {
          "output_type": "stream",
          "text": [
            "Collecting langdetect\n",
            "\u001b[?25l  Downloading https://files.pythonhosted.org/packages/59/59/4bc44158a767a6d66de18c4136c8aa90491d56cc951c10b74dd1e13213c9/langdetect-1.0.7.zip (998kB)\n",
            "\u001b[K     |████████████████████████████████| 1.0MB 3.3MB/s \n",
            "\u001b[?25hRequirement already satisfied: six in /usr/local/lib/python3.6/dist-packages (from langdetect) (1.12.0)\n",
            "Building wheels for collected packages: langdetect\n",
            "  Building wheel for langdetect (setup.py) ... \u001b[?25l\u001b[?25hdone\n",
            "  Stored in directory: /root/.cache/pip/wheels/ec/0c/a9/1647275e7ef5014e7b83ff30105180e332867d65e7617ddafe\n",
            "Successfully built langdetect\n",
            "Installing collected packages: langdetect\n",
            "Successfully installed langdetect-1.0.7\n"
          ],
          "name": "stdout"
        }
      ]
    },
    {
      "cell_type": "code",
      "metadata": {
        "colab_type": "code",
        "id": "eqaj4BaijPBG",
        "colab": {}
      },
      "source": [
        "import preprocessor as p\n",
        "import re\n",
        "def clean_tweets(input_str):\n",
        "    input_str = re.sub(r'RT', '', input_str)\n",
        "    p.set_options(p.OPT.URL, p.OPT.EMOJI,p.OPT.MENTION)\n",
        "    input_str = p.clean(input_str)\n",
        "    return ' '.join(re.sub(\"(@[A-Za-z0-9]+)|([^0-9A-Za-z \\t])|(\\w+:\\/\\/\\S+)\", \" \", input_str).split())"
      ],
      "execution_count": 0,
      "outputs": []
    },
    {
      "cell_type": "code",
      "metadata": {
        "colab_type": "code",
        "id": "_UuxHoPDVR6_",
        "outputId": "2971575b-503f-446e-bf78-e976ab13e521",
        "colab": {
          "base_uri": "https://localhost:8080/",
          "height": 170
        }
      },
      "source": [
        "func_udf = udf(clean_tweets, StringType())\n",
        "tweets = tweets.withColumn('cleaned', func_udf(tweets['text']))\n",
        "tweets.show(3)"
      ],
      "execution_count": 14,
      "outputs": [
        {
          "output_type": "stream",
          "text": [
            "+-------------------+--------------------+--------------------+\n",
            "|          timestamp|                text|             cleaned|\n",
            "+-------------------+--------------------+--------------------+\n",
            "|2016-06-25 23:59:52|Bitcoin: Pissed-o...|Bitcoin Pissed of...|\n",
            "|2016-06-25 23:59:36|I'm not gone lie ...|I m not gone lie ...|\n",
            "|2016-06-25 23:59:17|Did you miss Beyo...|Did you miss Beyo...|\n",
            "+-------------------+--------------------+--------------------+\n",
            "only showing top 3 rows\n",
            "\n"
          ],
          "name": "stdout"
        }
      ]
    },
    {
      "cell_type": "code",
      "metadata": {
        "id": "fjiJ8Bg-kLNX",
        "colab_type": "code",
        "colab": {
          "base_uri": "https://localhost:8080/",
          "height": 170
        },
        "outputId": "b873b1c9-4fcc-47a7-f380-52d9192c6416"
      },
      "source": [
        "func_udf = udf(langdetection, StringType())\n",
        "tweets= tweets.withColumn('lang_detect', func_udf(tweets['cleaned']))\n",
        "\n",
        "func_udf = udf(polarity_analysis, FloatType())\n",
        "tweets = tweets.withColumn('polarity', func_udf(tweets['cleaned']))\n",
        "\n",
        "func_udf = udf(sentiment_analysis, StringType())\n",
        "tweets = tweets.withColumn('sentiment', func_udf(tweets['cleaned']))\n",
        "\n",
        "tweets.show(3)"
      ],
      "execution_count": 15,
      "outputs": [
        {
          "output_type": "stream",
          "text": [
            "+-------------------+--------------------+--------------------+--------------------+--------+---------+\n",
            "|          timestamp|                text|             cleaned|         lang_detect|polarity|sentiment|\n",
            "+-------------------+--------------------+--------------------+--------------------+--------+---------+\n",
            "|2016-06-25 23:59:52|Bitcoin: Pissed-o...|Bitcoin Pissed of...|Bitcoin Pissed of...|-0.26845|  neutral|\n",
            "|2016-06-25 23:59:36|I'm not gone lie ...|I m not gone lie ...|I m not gone lie ...|     0.0|  neutral|\n",
            "|2016-06-25 23:59:17|Did you miss Beyo...|Did you miss Beyo...|Did you miss Beyo...|-0.04855|  neutral|\n",
            "+-------------------+--------------------+--------------------+--------------------+--------+---------+\n",
            "only showing top 3 rows\n",
            "\n"
          ],
          "name": "stdout"
        }
      ]
    },
    {
      "cell_type": "code",
      "metadata": {
        "id": "HBCDk8GUkdnn",
        "colab_type": "code",
        "colab": {}
      },
      "source": [
        "func_udf = udf(sentiment_scores, ArrayType(FloatType()))\n",
        "tweets = tweets.withColumn('p_neg', func_udf(tweets['cleaned'])[0])\n",
        "tweets = tweets.withColumn('p_neu', func_udf(tweets['cleaned'])[1])\n",
        "tweets = tweets.withColumn('p_pos', func_udf(tweets['cleaned'])[2])\n",
        "tweets = tweets.withColumn('p_comp', func_udf(tweets['cleaned'])[3])"
      ],
      "execution_count": 0,
      "outputs": []
    },
    {
      "cell_type": "code",
      "metadata": {
        "id": "SQLP-9GGlVL9",
        "colab_type": "code",
        "colab": {}
      },
      "source": [
        "tweets = tweets.selectExpr(\"timestamp\",\"cleaned\",\"lang_detect\",\"sentiment\",\"polarity\",\"p_neg\",\"p_neu\",\"p_pos\",\"p_comp\")"
      ],
      "execution_count": 0,
      "outputs": []
    },
    {
      "cell_type": "code",
      "metadata": {
        "id": "IWMNa_UPmQ9G",
        "colab_type": "code",
        "colab": {}
      },
      "source": [
        "tweets_final = tweets.dropna(subset=['lang_detect'])"
      ],
      "execution_count": 0,
      "outputs": []
    },
    {
      "cell_type": "code",
      "metadata": {
        "id": "ODZkmlUSmV9z",
        "colab_type": "code",
        "colab": {}
      },
      "source": [
        "tweets_final = tweets_final.withColumn(\"date\",tweets_final['timestamp'].cast(TimestampType()))\n",
        "# tweets_final = tweets_final.selectExpr(\"date\",\"cleaned\",\"lang_detect\",\"sentiment\",\"polarity\",\"p_neg\",\"p_neu\",\"p_pos\",\"p_comp\")\n",
        "tweets_final = tweets_final.selectExpr(\"date\",\"p_neg\",\"p_neu\",\"p_pos\",\"p_comp\")"
      ],
      "execution_count": 0,
      "outputs": []
    },
    {
      "cell_type": "code",
      "metadata": {
        "id": "Sg9OBwl6mqkf",
        "colab_type": "code",
        "colab": {
          "base_uri": "https://localhost:8080/",
          "height": 306
        },
        "outputId": "edd8b006-c357-4147-c75e-4b70fc7b8bf3"
      },
      "source": [
        "tweets_final.write.csv('/content/drive/My Drive/sentiment_analysis/tweets_final.csv')"
      ],
      "execution_count": 20,
      "outputs": [
        {
          "output_type": "error",
          "ename": "KeyboardInterrupt",
          "evalue": "ignored",
          "traceback": [
            "\u001b[0;31m---------------------------------------------------------------------------\u001b[0m",
            "\u001b[0;31mKeyboardInterrupt\u001b[0m                         Traceback (most recent call last)",
            "\u001b[0;32m<ipython-input-20-79c440bca4ef>\u001b[0m in \u001b[0;36m<module>\u001b[0;34m()\u001b[0m\n\u001b[0;32m----> 1\u001b[0;31m \u001b[0mtweets_final\u001b[0m\u001b[0;34m.\u001b[0m\u001b[0mwrite\u001b[0m\u001b[0;34m.\u001b[0m\u001b[0mcsv\u001b[0m\u001b[0;34m(\u001b[0m\u001b[0;34m'/content/drive/My Drive/sentiment_analysis/tweets_final.csv'\u001b[0m\u001b[0;34m)\u001b[0m\u001b[0;34m\u001b[0m\u001b[0;34m\u001b[0m\u001b[0m\n\u001b[0m",
            "\u001b[0;32m/usr/local/lib/python3.6/dist-packages/pyspark/sql/readwriter.py\u001b[0m in \u001b[0;36mcsv\u001b[0;34m(self, path, mode, compression, sep, quote, escape, header, nullValue, escapeQuotes, quoteAll, dateFormat, timestampFormat, ignoreLeadingWhiteSpace, ignoreTrailingWhiteSpace, charToEscapeQuoteEscaping)\u001b[0m\n\u001b[1;32m    883\u001b[0m                        \u001b[0mignoreTrailingWhiteSpace\u001b[0m\u001b[0;34m=\u001b[0m\u001b[0mignoreTrailingWhiteSpace\u001b[0m\u001b[0;34m,\u001b[0m\u001b[0;34m\u001b[0m\u001b[0;34m\u001b[0m\u001b[0m\n\u001b[1;32m    884\u001b[0m                        charToEscapeQuoteEscaping=charToEscapeQuoteEscaping)\n\u001b[0;32m--> 885\u001b[0;31m         \u001b[0mself\u001b[0m\u001b[0;34m.\u001b[0m\u001b[0m_jwrite\u001b[0m\u001b[0;34m.\u001b[0m\u001b[0mcsv\u001b[0m\u001b[0;34m(\u001b[0m\u001b[0mpath\u001b[0m\u001b[0;34m)\u001b[0m\u001b[0;34m\u001b[0m\u001b[0;34m\u001b[0m\u001b[0m\n\u001b[0m\u001b[1;32m    886\u001b[0m \u001b[0;34m\u001b[0m\u001b[0m\n\u001b[1;32m    887\u001b[0m     \u001b[0;34m@\u001b[0m\u001b[0msince\u001b[0m\u001b[0;34m(\u001b[0m\u001b[0;36m1.5\u001b[0m\u001b[0;34m)\u001b[0m\u001b[0;34m\u001b[0m\u001b[0;34m\u001b[0m\u001b[0m\n",
            "\u001b[0;32m/usr/local/lib/python3.6/dist-packages/py4j/java_gateway.py\u001b[0m in \u001b[0;36m__call__\u001b[0;34m(self, *args)\u001b[0m\n\u001b[1;32m   1253\u001b[0m             \u001b[0mproto\u001b[0m\u001b[0;34m.\u001b[0m\u001b[0mEND_COMMAND_PART\u001b[0m\u001b[0;34m\u001b[0m\u001b[0;34m\u001b[0m\u001b[0m\n\u001b[1;32m   1254\u001b[0m \u001b[0;34m\u001b[0m\u001b[0m\n\u001b[0;32m-> 1255\u001b[0;31m         \u001b[0manswer\u001b[0m \u001b[0;34m=\u001b[0m \u001b[0mself\u001b[0m\u001b[0;34m.\u001b[0m\u001b[0mgateway_client\u001b[0m\u001b[0;34m.\u001b[0m\u001b[0msend_command\u001b[0m\u001b[0;34m(\u001b[0m\u001b[0mcommand\u001b[0m\u001b[0;34m)\u001b[0m\u001b[0;34m\u001b[0m\u001b[0;34m\u001b[0m\u001b[0m\n\u001b[0m\u001b[1;32m   1256\u001b[0m         return_value = get_return_value(\n\u001b[1;32m   1257\u001b[0m             answer, self.gateway_client, self.target_id, self.name)\n",
            "\u001b[0;32m/usr/local/lib/python3.6/dist-packages/py4j/java_gateway.py\u001b[0m in \u001b[0;36msend_command\u001b[0;34m(self, command, retry, binary)\u001b[0m\n\u001b[1;32m    983\u001b[0m         \u001b[0mconnection\u001b[0m \u001b[0;34m=\u001b[0m \u001b[0mself\u001b[0m\u001b[0;34m.\u001b[0m\u001b[0m_get_connection\u001b[0m\u001b[0;34m(\u001b[0m\u001b[0;34m)\u001b[0m\u001b[0;34m\u001b[0m\u001b[0;34m\u001b[0m\u001b[0m\n\u001b[1;32m    984\u001b[0m         \u001b[0;32mtry\u001b[0m\u001b[0;34m:\u001b[0m\u001b[0;34m\u001b[0m\u001b[0;34m\u001b[0m\u001b[0m\n\u001b[0;32m--> 985\u001b[0;31m             \u001b[0mresponse\u001b[0m \u001b[0;34m=\u001b[0m \u001b[0mconnection\u001b[0m\u001b[0;34m.\u001b[0m\u001b[0msend_command\u001b[0m\u001b[0;34m(\u001b[0m\u001b[0mcommand\u001b[0m\u001b[0;34m)\u001b[0m\u001b[0;34m\u001b[0m\u001b[0;34m\u001b[0m\u001b[0m\n\u001b[0m\u001b[1;32m    986\u001b[0m             \u001b[0;32mif\u001b[0m \u001b[0mbinary\u001b[0m\u001b[0;34m:\u001b[0m\u001b[0;34m\u001b[0m\u001b[0;34m\u001b[0m\u001b[0m\n\u001b[1;32m    987\u001b[0m                 \u001b[0;32mreturn\u001b[0m \u001b[0mresponse\u001b[0m\u001b[0;34m,\u001b[0m \u001b[0mself\u001b[0m\u001b[0;34m.\u001b[0m\u001b[0m_create_connection_guard\u001b[0m\u001b[0;34m(\u001b[0m\u001b[0mconnection\u001b[0m\u001b[0;34m)\u001b[0m\u001b[0;34m\u001b[0m\u001b[0;34m\u001b[0m\u001b[0m\n",
            "\u001b[0;32m/usr/local/lib/python3.6/dist-packages/py4j/java_gateway.py\u001b[0m in \u001b[0;36msend_command\u001b[0;34m(self, command)\u001b[0m\n\u001b[1;32m   1150\u001b[0m \u001b[0;34m\u001b[0m\u001b[0m\n\u001b[1;32m   1151\u001b[0m         \u001b[0;32mtry\u001b[0m\u001b[0;34m:\u001b[0m\u001b[0;34m\u001b[0m\u001b[0;34m\u001b[0m\u001b[0m\n\u001b[0;32m-> 1152\u001b[0;31m             \u001b[0manswer\u001b[0m \u001b[0;34m=\u001b[0m \u001b[0msmart_decode\u001b[0m\u001b[0;34m(\u001b[0m\u001b[0mself\u001b[0m\u001b[0;34m.\u001b[0m\u001b[0mstream\u001b[0m\u001b[0;34m.\u001b[0m\u001b[0mreadline\u001b[0m\u001b[0;34m(\u001b[0m\u001b[0;34m)\u001b[0m\u001b[0;34m[\u001b[0m\u001b[0;34m:\u001b[0m\u001b[0;34m-\u001b[0m\u001b[0;36m1\u001b[0m\u001b[0;34m]\u001b[0m\u001b[0;34m)\u001b[0m\u001b[0;34m\u001b[0m\u001b[0;34m\u001b[0m\u001b[0m\n\u001b[0m\u001b[1;32m   1153\u001b[0m             \u001b[0mlogger\u001b[0m\u001b[0;34m.\u001b[0m\u001b[0mdebug\u001b[0m\u001b[0;34m(\u001b[0m\u001b[0;34m\"Answer received: {0}\"\u001b[0m\u001b[0;34m.\u001b[0m\u001b[0mformat\u001b[0m\u001b[0;34m(\u001b[0m\u001b[0manswer\u001b[0m\u001b[0;34m)\u001b[0m\u001b[0;34m)\u001b[0m\u001b[0;34m\u001b[0m\u001b[0;34m\u001b[0m\u001b[0m\n\u001b[1;32m   1154\u001b[0m             \u001b[0;32mif\u001b[0m \u001b[0manswer\u001b[0m\u001b[0;34m.\u001b[0m\u001b[0mstartswith\u001b[0m\u001b[0;34m(\u001b[0m\u001b[0mproto\u001b[0m\u001b[0;34m.\u001b[0m\u001b[0mRETURN_MESSAGE\u001b[0m\u001b[0;34m)\u001b[0m\u001b[0;34m:\u001b[0m\u001b[0;34m\u001b[0m\u001b[0;34m\u001b[0m\u001b[0m\n",
            "\u001b[0;32m/usr/lib/python3.6/socket.py\u001b[0m in \u001b[0;36mreadinto\u001b[0;34m(self, b)\u001b[0m\n\u001b[1;32m    584\u001b[0m         \u001b[0;32mwhile\u001b[0m \u001b[0;32mTrue\u001b[0m\u001b[0;34m:\u001b[0m\u001b[0;34m\u001b[0m\u001b[0;34m\u001b[0m\u001b[0m\n\u001b[1;32m    585\u001b[0m             \u001b[0;32mtry\u001b[0m\u001b[0;34m:\u001b[0m\u001b[0;34m\u001b[0m\u001b[0;34m\u001b[0m\u001b[0m\n\u001b[0;32m--> 586\u001b[0;31m                 \u001b[0;32mreturn\u001b[0m \u001b[0mself\u001b[0m\u001b[0;34m.\u001b[0m\u001b[0m_sock\u001b[0m\u001b[0;34m.\u001b[0m\u001b[0mrecv_into\u001b[0m\u001b[0;34m(\u001b[0m\u001b[0mb\u001b[0m\u001b[0;34m)\u001b[0m\u001b[0;34m\u001b[0m\u001b[0;34m\u001b[0m\u001b[0m\n\u001b[0m\u001b[1;32m    587\u001b[0m             \u001b[0;32mexcept\u001b[0m \u001b[0mtimeout\u001b[0m\u001b[0;34m:\u001b[0m\u001b[0;34m\u001b[0m\u001b[0;34m\u001b[0m\u001b[0m\n\u001b[1;32m    588\u001b[0m                 \u001b[0mself\u001b[0m\u001b[0;34m.\u001b[0m\u001b[0m_timeout_occurred\u001b[0m \u001b[0;34m=\u001b[0m \u001b[0;32mTrue\u001b[0m\u001b[0;34m\u001b[0m\u001b[0;34m\u001b[0m\u001b[0m\n",
            "\u001b[0;31mKeyboardInterrupt\u001b[0m: "
          ]
        }
      ]
    },
    {
      "cell_type": "code",
      "metadata": {
        "colab_type": "code",
        "id": "oQLSwGzbVbYG",
        "colab": {}
      },
      "source": [
        "tweets_final.repartition(1).write.format('com.databricks.spark.csv').save(\"/content/drive/My Drive/sentiment_analysis/tweets_final1.csv\",header = 'true')"
      ],
      "execution_count": 0,
      "outputs": []
    },
    {
      "cell_type": "code",
      "metadata": {
        "colab_type": "code",
        "id": "w1Xj9BcKVmII",
        "colab": {}
      },
      "source": [
        ""
      ],
      "execution_count": 0,
      "outputs": []
    },
    {
      "cell_type": "code",
      "metadata": {
        "colab_type": "code",
        "id": "PXoVCTNsWStb",
        "outputId": "ca41602d-eb13-4080-a170-9b4c056130b8",
        "colab": {
          "base_uri": "https://localhost:8080/",
          "height": 296
        }
      },
      "source": [
        ""
      ],
      "execution_count": 0,
      "outputs": [
        {
          "output_type": "error",
          "ename": "AttributeError",
          "evalue": "ignored",
          "traceback": [
            "\u001b[0;31m---------------------------------------------------------------------------\u001b[0m",
            "\u001b[0;31mAttributeError\u001b[0m                            Traceback (most recent call last)",
            "\u001b[0;32m<ipython-input-12-cf50a43c2d9d>\u001b[0m in \u001b[0;36m<module>\u001b[0;34m()\u001b[0m\n\u001b[0;32m----> 1\u001b[0;31m \u001b[0mhdf\u001b[0m \u001b[0;34m=\u001b[0m \u001b[0mtweets_cl\u001b[0m\u001b[0;34m.\u001b[0m\u001b[0mtoHandy\u001b[0m\u001b[0;34m(\u001b[0m\u001b[0;34m)\u001b[0m\u001b[0;34m\u001b[0m\u001b[0;34m\u001b[0m\u001b[0m\n\u001b[0m\u001b[1;32m      2\u001b[0m \u001b[0mhdf\u001b[0m\u001b[0;34m.\u001b[0m\u001b[0mcols\u001b[0m\u001b[0;34m[\u001b[0m\u001b[0;34m:\u001b[0m\u001b[0;34m]\u001b[0m\u001b[0;34m[\u001b[0m\u001b[0;36m5\u001b[0m\u001b[0;34m]\u001b[0m\u001b[0;34m\u001b[0m\u001b[0;34m\u001b[0m\u001b[0m\n",
            "\u001b[0;32m/usr/local/lib/python3.6/dist-packages/pyspark/sql/dataframe.py\u001b[0m in \u001b[0;36m__getattr__\u001b[0;34m(self, name)\u001b[0m\n\u001b[1;32m   1180\u001b[0m         \u001b[0;32mif\u001b[0m \u001b[0mname\u001b[0m \u001b[0;32mnot\u001b[0m \u001b[0;32min\u001b[0m \u001b[0mself\u001b[0m\u001b[0;34m.\u001b[0m\u001b[0mcolumns\u001b[0m\u001b[0;34m:\u001b[0m\u001b[0;34m\u001b[0m\u001b[0;34m\u001b[0m\u001b[0m\n\u001b[1;32m   1181\u001b[0m             raise AttributeError(\n\u001b[0;32m-> 1182\u001b[0;31m                 \"'%s' object has no attribute '%s'\" % (self.__class__.__name__, name))\n\u001b[0m\u001b[1;32m   1183\u001b[0m         \u001b[0mjc\u001b[0m \u001b[0;34m=\u001b[0m \u001b[0mself\u001b[0m\u001b[0;34m.\u001b[0m\u001b[0m_jdf\u001b[0m\u001b[0;34m.\u001b[0m\u001b[0mapply\u001b[0m\u001b[0;34m(\u001b[0m\u001b[0mname\u001b[0m\u001b[0;34m)\u001b[0m\u001b[0;34m\u001b[0m\u001b[0;34m\u001b[0m\u001b[0m\n\u001b[1;32m   1184\u001b[0m         \u001b[0;32mreturn\u001b[0m \u001b[0mColumn\u001b[0m\u001b[0;34m(\u001b[0m\u001b[0mjc\u001b[0m\u001b[0;34m)\u001b[0m\u001b[0;34m\u001b[0m\u001b[0;34m\u001b[0m\u001b[0m\n",
            "\u001b[0;31mAttributeError\u001b[0m: 'DataFrame' object has no attribute 'toHandy'"
          ]
        }
      ]
    },
    {
      "cell_type": "code",
      "metadata": {
        "colab_type": "code",
        "id": "BlP_-UM3VtGc",
        "colab": {}
      },
      "source": [
        ""
      ],
      "execution_count": 0,
      "outputs": []
    }
  ]
}